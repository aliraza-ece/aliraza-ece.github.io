{
 "cells": [
  {
   "cell_type": "markdown",
   "metadata": {},
   "source": [
    "# Recommender System\n",
    "### Collaborative Filtering (using FastAI)"
   ]
  },
  {
   "cell_type": "code",
   "execution_count": 1,
   "metadata": {},
   "outputs": [],
   "source": [
    "\n",
    "import numpy as np\n",
    "import pandas as pd\n",
    "import fastai\n",
    "from fastai.collab import *\n",
    "from fastai.tabular import *\n",
    "import seaborn as sns\n",
    "#fastai related imports\n",
    "# from fastai.learner import *\n",
    "# from fastai.column_data import *\n"
   ]
  },
  {
   "cell_type": "code",
   "execution_count": 2,
   "metadata": {},
   "outputs": [
    {
     "name": "stdout",
     "output_type": "stream",
     "text": [
      "reading recommender_matrix\n",
      "h_matrix.shape:  (208, 40)\n"
     ]
    }
   ],
   "source": [
    "print('reading recommender_matrix')\n",
    "h_matrix = np.load('recommender_matrix.npy')\n",
    "print('h_matrix.shape: ', h_matrix.shape)\n",
    "\n",
    "# converting sparse matrix to csv list\n",
    "with open('recommender_matrix.csv', 'w') as f:\n",
    "    writer = csv.writer(f)\n",
    "    writer.writerow(['x', 'y', 'value'])\n",
    "    for (n, m), val in np.ndenumerate(h_matrix):\n",
    "        writer.writerow([n, m, val])\n",
    "\n",
    "# h_matrix_df = pd.DataFrame(h_matrix)\n",
    "# h_matrix_df = h_matrix_df.fillna(0)\n",
    "# print(h_matrix_df.head())\n",
    "\n",
    "# h_matrix_df.insert(0, 'M_ID', range(0,len(h_matrix_df)))\n",
    "# print(h_matrix_df.head())"
   ]
  },
  {
   "cell_type": "code",
   "execution_count": 3,
   "metadata": {},
   "outputs": [
    {
     "name": "stdout",
     "output_type": "stream",
     "text": [
      "8320\n",
      "1180\n"
     ]
    },
    {
     "data": {
      "text/html": [
       "<table border=\"1\" class=\"dataframe\">\n",
       "  <thead>\n",
       "    <tr style=\"text-align: right;\">\n",
       "      <th>userID</th>\n",
       "      <th>songID</th>\n",
       "      <th>target</th>\n",
       "    </tr>\n",
       "  </thead>\n",
       "  <tbody>\n",
       "    <tr>\n",
       "      <td>22</td>\n",
       "      <td>13</td>\n",
       "      <td>2.2498317</td>\n",
       "    </tr>\n",
       "    <tr>\n",
       "      <td>49</td>\n",
       "      <td>15</td>\n",
       "      <td>2.1367304</td>\n",
       "    </tr>\n",
       "    <tr>\n",
       "      <td>162</td>\n",
       "      <td>1</td>\n",
       "      <td>0.73907983</td>\n",
       "    </tr>\n",
       "    <tr>\n",
       "      <td>207</td>\n",
       "      <td>1</td>\n",
       "      <td>0.7495587</td>\n",
       "    </tr>\n",
       "    <tr>\n",
       "      <td>196</td>\n",
       "      <td>0</td>\n",
       "      <td>-0.24974519</td>\n",
       "    </tr>\n",
       "  </tbody>\n",
       "</table>"
      ],
      "text/plain": [
       "<IPython.core.display.HTML object>"
      ]
     },
     "metadata": {},
     "output_type": "display_data"
    }
   ],
   "source": [
    "ratings = pd.read_csv('recommender_matrix.csv')\n",
    "ratings.head()\n",
    "ratings.columns = ['userID', 'songID', 'rating']\n",
    "print(len(ratings))\n",
    "ratings.dropna(subset = [\"rating\"], inplace=True)\n",
    "print(len(ratings))\n",
    "data = CollabDataBunch.from_df(ratings, seed=42, valid_pct=0.2)\n",
    "data.show_batch()\n",
    "\n",
    "y_range = [-20,20]\n",
    "learn = collab_learner(data, n_factors=50, y_range=y_range, wd=1e-1)\n",
    "\n"
   ]
  },
  {
   "cell_type": "code",
   "execution_count": 4,
   "metadata": {},
   "outputs": [
    {
     "data": {
      "text/html": [
       "<table border=\"1\" class=\"dataframe\">\n",
       "  <thead>\n",
       "    <tr style=\"text-align: left;\">\n",
       "      <th>epoch</th>\n",
       "      <th>train_loss</th>\n",
       "      <th>valid_loss</th>\n",
       "      <th>time</th>\n",
       "    </tr>\n",
       "  </thead>\n",
       "  <tbody>\n",
       "    <tr>\n",
       "      <td>0</td>\n",
       "      <td>2.847890</td>\n",
       "      <td>2.767252</td>\n",
       "      <td>01:00</td>\n",
       "    </tr>\n",
       "    <tr>\n",
       "      <td>1</td>\n",
       "      <td>2.612869</td>\n",
       "      <td>2.095841</td>\n",
       "      <td>01:01</td>\n",
       "    </tr>\n",
       "    <tr>\n",
       "      <td>2</td>\n",
       "      <td>2.145791</td>\n",
       "      <td>1.111779</td>\n",
       "      <td>01:00</td>\n",
       "    </tr>\n",
       "    <tr>\n",
       "      <td>3</td>\n",
       "      <td>1.579943</td>\n",
       "      <td>0.654813</td>\n",
       "      <td>00:58</td>\n",
       "    </tr>\n",
       "    <tr>\n",
       "      <td>4</td>\n",
       "      <td>1.136883</td>\n",
       "      <td>0.636026</td>\n",
       "      <td>00:58</td>\n",
       "    </tr>\n",
       "    <tr>\n",
       "      <td>5</td>\n",
       "      <td>0.820922</td>\n",
       "      <td>0.652155</td>\n",
       "      <td>00:58</td>\n",
       "    </tr>\n",
       "    <tr>\n",
       "      <td>6</td>\n",
       "      <td>0.597214</td>\n",
       "      <td>0.649928</td>\n",
       "      <td>00:59</td>\n",
       "    </tr>\n",
       "    <tr>\n",
       "      <td>7</td>\n",
       "      <td>0.438213</td>\n",
       "      <td>0.647440</td>\n",
       "      <td>00:58</td>\n",
       "    </tr>\n",
       "    <tr>\n",
       "      <td>8</td>\n",
       "      <td>0.324440</td>\n",
       "      <td>0.646590</td>\n",
       "      <td>00:59</td>\n",
       "    </tr>\n",
       "    <tr>\n",
       "      <td>9</td>\n",
       "      <td>0.242181</td>\n",
       "      <td>0.646537</td>\n",
       "      <td>00:58</td>\n",
       "    </tr>\n",
       "  </tbody>\n",
       "</table>"
      ],
      "text/plain": [
       "<IPython.core.display.HTML object>"
      ]
     },
     "metadata": {},
     "output_type": "display_data"
    },
    {
     "data": {
      "image/png": "[encoded data removed]",
      "text/plain": [
       "<Figure size 432x288 with 1 Axes>"
      ]
     },
     "metadata": {
      "needs_background": "light"
     },
     "output_type": "display_data"
    }
   ],
   "source": [
    "# learn.lr_find() # find learning rate\n",
    "# learn.recorder.plot() # plot learning rate graph\n",
    "learn.fit_one_cycle(10, 5e-3)\n",
    "learn.recorder.plot_losses()"
   ]
  },
  {
   "cell_type": "code",
   "execution_count": 19,
   "metadata": {},
   "outputs": [
    {
     "data": {
      "text/html": [],
      "text/plain": [
       "<IPython.core.display.HTML object>"
      ]
     },
     "metadata": {},
     "output_type": "display_data"
    }
   ],
   "source": [
    "preds,targs = learn.get_preds(ds_type=DatasetType.Valid)"
   ]
  },
  {
   "cell_type": "code",
   "execution_count": 20,
   "metadata": {},
   "outputs": [
    {
     "name": "stdout",
     "output_type": "stream",
     "text": [
      "236\n",
      "0.8040751377125165\n"
     ]
    },
    {
     "data": {
      "text/plain": [
       "[<matplotlib.lines.Line2D at 0x1b4e205efd0>]"
      ]
     },
     "execution_count": 20,
     "metadata": {},
     "output_type": "execute_result"
    },
    {
     "data": {
      "image/png": "[encoded data removed]",
      "text/plain": [
       "<Figure size 432x288 with 1 Axes>"
      ]
     },
     "metadata": {
      "needs_background": "light"
     },
     "output_type": "display_data"
    }
   ],
   "source": [
    "from sklearn.metrics import mean_squared_error\n",
    "from math import sqrt\n",
    "print(len(preds))\n",
    "rms = sqrt(mean_squared_error(preds, targs))\n",
    "print(rms)\n",
    "plt.scatter(preds, targs)\n",
    "x = np.linspace(-4,5,100)\n",
    "y = x\n",
    "plt.plot(x, y, ':r', label='y=x', linewidth = 2.5)\n"
   ]
  },
  {
   "cell_type": "code",
   "execution_count": 21,
   "metadata": {},
   "outputs": [
    {
     "name": "stdout",
     "output_type": "stream",
     "text": [
      "0.7282373308554794\n"
     ]
    },
    {
     "data": {
      "image/png": "[encoded data removed]",
      "text/plain": [
       "<Figure size 432x288 with 1 Axes>"
      ]
     },
     "metadata": {
      "needs_background": "light"
     },
     "output_type": "display_data"
    }
   ],
   "source": [
    "# Using sklearn\n",
    "y_test = targs\n",
    "y_predicted = preds\n",
    "from sklearn.metrics import r2_score\n",
    "from sklearn.linear_model import *\n",
    "\n",
    "print( r2_score(y_test, y_predicted) )\n",
    "fig, ax = plt.subplots()\n",
    "ax.scatter(y_test, y_predicted)\n",
    "ax.plot([y.min(), y.max()], [y.min(), y.max()], 'k--', lw=4)\n",
    "ax.set_xlabel('Actual')\n",
    "ax.set_ylabel('Predicted')\n",
    "#regression line\n",
    "y_test, y_predicted = y_test.reshape(-1,1), y_predicted.reshape(-1,1)\n",
    "ax.plot(y_test, LinearRegression().fit(y_test, y_predicted).predict(y_test))\n",
    "\n",
    "plt.show()"
   ]
  }
 ],
 "metadata": {
  "kernelspec": {
   "display_name": "Python 3",
   "language": "python",
   "name": "python3"
  },
  "language_info": {
   "codemirror_mode": {
    "name": "ipython",
    "version": 3
   },
   "file_extension": ".py",
   "mimetype": "text/x-python",
   "name": "python",
   "nbconvert_exporter": "python",
   "pygments_lexer": "ipython3",
   "version": "3.6.9"
  }
 },
 "nbformat": 4,
 "nbformat_minor": 4
}
